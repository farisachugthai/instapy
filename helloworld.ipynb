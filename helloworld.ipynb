{
 "cells": [
  {
   "cell_type": "code",
   "execution_count": 1,
   "metadata": {},
   "outputs": [],
   "source": [
    "from time import sleep\n",
    "from selenium import webdriver"
   ]
  },
  {
   "cell_type": "code",
   "execution_count": 2,
   "metadata": {},
   "outputs": [],
   "source": [
    "browser = webdriver.Firefox()\n",
    "browser.get('https://www.instagram.com/')\n",
    "sleep(5)\n",
    "browser.close()"
   ]
  },
  {
   "source": [
    "- **Line 5** {The cell above} sets five seconds of waiting time. \n",
    "\n",
    "- If Selenium can’t find an element, then it waits for five seconds to allow everything to load and tries again. \n",
    "\n",
    "- **Line 9** {The cell below} finds the element `<a>` whose text is equal to Log in.\n",
    "\n",
    "- It does this using XPath, but there are a few other methods you could use."
   ],
   "cell_type": "markdown",
   "metadata": {}
  },
  {
   "cell_type": "code",
   "execution_count": 5,
   "metadata": {},
   "outputs": [
    {
     "output_type": "error",
     "ename": "WebDriverException",
     "evalue": "Message: TypeError: can't access property \"focus\", this.curBrowser.contentBrowser is null\n",
     "traceback": [
      "\u001b[1;31m---------------------------------------------------------------------------\u001b[0m",
      "\u001b[1;31mWebDriverException\u001b[0m                        Traceback (most recent call last)",
      "\u001b[1;32m<ipython-input-5-45c489a029b6>\u001b[0m in \u001b[0;36m<module>\u001b[1;34m\u001b[0m\n\u001b[0;32m      3\u001b[0m \u001b[0mbrowser\u001b[0m\u001b[1;33m.\u001b[0m\u001b[0mimplicitly_wait\u001b[0m\u001b[1;33m(\u001b[0m\u001b[1;36m5\u001b[0m\u001b[1;33m)\u001b[0m\u001b[1;33m\u001b[0m\u001b[1;33m\u001b[0m\u001b[0m\n\u001b[0;32m      4\u001b[0m \u001b[1;33m\u001b[0m\u001b[0m\n\u001b[1;32m----> 5\u001b[1;33m \u001b[0mbrowser\u001b[0m\u001b[1;33m.\u001b[0m\u001b[0mget\u001b[0m\u001b[1;33m(\u001b[0m\u001b[1;34m'https://www.instagram.com/'\u001b[0m\u001b[1;33m)\u001b[0m\u001b[1;33m\u001b[0m\u001b[1;33m\u001b[0m\u001b[0m\n\u001b[0m        \u001b[1;36mglobal\u001b[0m \u001b[0;36mbrowser.get\u001b[0m \u001b[1;34m= <bound method WebDriver.get of <selenium.webdriver.firefox.webdriver.WebDriver (session=\"29d048be-1e98-4034-b0cf-2d4020a36af6\")>>\u001b[0m\n\u001b[0;32m      6\u001b[0m \u001b[1;33m\u001b[0m\u001b[0m\n\u001b[0;32m      7\u001b[0m \u001b[1;31m# uh oh. This is raising a NoSuchElementException\u001b[0m\u001b[1;33m\u001b[0m\u001b[1;33m\u001b[0m\u001b[1;33m\u001b[0m\u001b[0m\n",
      "\u001b[1;32m~\\scoop\\apps\\miniconda3\\current\\envs\\instapy\\lib\\site-packages\\selenium\\webdriver\\remote\\webdriver.py\u001b[0m in \u001b[0;36mget\u001b[1;34m(self=<selenium.webdriver.firefox.webdriver.WebDriver (session=\"29d048be-1e98-4034-b0cf-2d4020a36af6\")>, url='https://www.instagram.com/')\u001b[0m\n\u001b[0;32m    331\u001b[0m         \u001b[0mLoads\u001b[0m \u001b[0ma\u001b[0m \u001b[0mweb\u001b[0m \u001b[0mpage\u001b[0m \u001b[1;32min\u001b[0m \u001b[0mthe\u001b[0m \u001b[0mcurrent\u001b[0m \u001b[0mbrowser\u001b[0m \u001b[0msession\u001b[0m\u001b[1;33m.\u001b[0m\u001b[1;33m\u001b[0m\u001b[1;33m\u001b[0m\u001b[0m\n\u001b[0;32m    332\u001b[0m         \"\"\"\n\u001b[1;32m--> 333\u001b[1;33m         \u001b[0mself\u001b[0m\u001b[1;33m.\u001b[0m\u001b[0mexecute\u001b[0m\u001b[1;33m(\u001b[0m\u001b[0mCommand\u001b[0m\u001b[1;33m.\u001b[0m\u001b[0mGET\u001b[0m\u001b[1;33m,\u001b[0m \u001b[1;33m{\u001b[0m\u001b[1;34m'url'\u001b[0m\u001b[1;33m:\u001b[0m \u001b[0murl\u001b[0m\u001b[1;33m}\u001b[0m\u001b[1;33m)\u001b[0m\u001b[1;33m\u001b[0m\u001b[1;33m\u001b[0m\u001b[0m\n\u001b[0m        \u001b[0;36mself.execute\u001b[0m \u001b[1;34m= <bound method WebDriver.execute of <selenium.webdriver.firefox.webdriver.WebDriver (session=\"29d048be-1e98-4034-b0cf-2d4020a36af6\")>>\u001b[0m\u001b[1;34m\n        \u001b[0m\u001b[1;36mglobal\u001b[0m \u001b[0;36mCommand.GET\u001b[0m \u001b[1;34m= 'get'\u001b[0m\u001b[1;34m\n        \u001b[0m\u001b[0;36murl\u001b[0m \u001b[1;34m= 'https://www.instagram.com/'\u001b[0m\n\u001b[0;32m    334\u001b[0m \u001b[1;33m\u001b[0m\u001b[0m\n\u001b[0;32m    335\u001b[0m     \u001b[1;33m@\u001b[0m\u001b[0mproperty\u001b[0m\u001b[1;33m\u001b[0m\u001b[1;33m\u001b[0m\u001b[0m\n",
      "\u001b[1;32m~\\scoop\\apps\\miniconda3\\current\\envs\\instapy\\lib\\site-packages\\selenium\\webdriver\\remote\\webdriver.py\u001b[0m in \u001b[0;36mexecute\u001b[1;34m(self=<selenium.webdriver.firefox.webdriver.WebDriver (session=\"29d048be-1e98-4034-b0cf-2d4020a36af6\")>, driver_command='get', params={'url': 'https://www.instagram.com/'})\u001b[0m\n\u001b[0;32m    319\u001b[0m         \u001b[0mresponse\u001b[0m \u001b[1;33m=\u001b[0m \u001b[0mself\u001b[0m\u001b[1;33m.\u001b[0m\u001b[0mcommand_executor\u001b[0m\u001b[1;33m.\u001b[0m\u001b[0mexecute\u001b[0m\u001b[1;33m(\u001b[0m\u001b[0mdriver_command\u001b[0m\u001b[1;33m,\u001b[0m \u001b[0mparams\u001b[0m\u001b[1;33m)\u001b[0m\u001b[1;33m\u001b[0m\u001b[1;33m\u001b[0m\u001b[0m\n\u001b[0;32m    320\u001b[0m         \u001b[1;32mif\u001b[0m \u001b[0mresponse\u001b[0m\u001b[1;33m:\u001b[0m\u001b[1;33m\u001b[0m\u001b[1;33m\u001b[0m\u001b[0m\n\u001b[1;32m--> 321\u001b[1;33m             \u001b[0mself\u001b[0m\u001b[1;33m.\u001b[0m\u001b[0merror_handler\u001b[0m\u001b[1;33m.\u001b[0m\u001b[0mcheck_response\u001b[0m\u001b[1;33m(\u001b[0m\u001b[0mresponse\u001b[0m\u001b[1;33m)\u001b[0m\u001b[1;33m\u001b[0m\u001b[1;33m\u001b[0m\u001b[0m\n\u001b[0m        \u001b[0;36mself.error_handler.check_response\u001b[0m \u001b[1;34m= <bound method ErrorHandler.check_response of <selenium.webdriver.remote.errorhandler.ErrorHandler object at 0x000001CA8175E0A0>>\u001b[0m\u001b[1;34m\n        \u001b[0m\u001b[0;36mresponse\u001b[0m \u001b[1;34m= {'status': 500, 'value': '{\"value\":{\"error\":\"unknown error\",\"message\":\"TypeError: can\\'t access property \\\\\"focus\\\\\", this.curBrowser.contentBrowser is null\",\"stacktrace\":\"GeckoDriver.prototype.get@chrome://marionette/content/driver.js:1165:3\\\\n\"}}'}\u001b[0m\n\u001b[0;32m    322\u001b[0m             response['value'] = self._unwrap_value(\n\u001b[0;32m    323\u001b[0m                 response.get('value', None))\n",
      "\u001b[1;32m~\\scoop\\apps\\miniconda3\\current\\envs\\instapy\\lib\\site-packages\\selenium\\webdriver\\remote\\errorhandler.py\u001b[0m in \u001b[0;36mcheck_response\u001b[1;34m(self=<selenium.webdriver.remote.errorhandler.ErrorHandler object>, response={'status': 500, 'value': r'{\"value\":{\"error\":\"unknown error\",\"message\":\"Typ...chrome://marionette/content/driver.js:1165:3\\n\"}}'})\u001b[0m\n\u001b[0;32m    240\u001b[0m                 \u001b[0malert_text\u001b[0m \u001b[1;33m=\u001b[0m \u001b[0mvalue\u001b[0m\u001b[1;33m[\u001b[0m\u001b[1;34m'alert'\u001b[0m\u001b[1;33m]\u001b[0m\u001b[1;33m.\u001b[0m\u001b[0mget\u001b[0m\u001b[1;33m(\u001b[0m\u001b[1;34m'text'\u001b[0m\u001b[1;33m)\u001b[0m\u001b[1;33m\u001b[0m\u001b[1;33m\u001b[0m\u001b[0m\n\u001b[0;32m    241\u001b[0m             \u001b[1;32mraise\u001b[0m \u001b[0mexception_class\u001b[0m\u001b[1;33m(\u001b[0m\u001b[0mmessage\u001b[0m\u001b[1;33m,\u001b[0m \u001b[0mscreen\u001b[0m\u001b[1;33m,\u001b[0m \u001b[0mstacktrace\u001b[0m\u001b[1;33m,\u001b[0m \u001b[0malert_text\u001b[0m\u001b[1;33m)\u001b[0m\u001b[1;33m\u001b[0m\u001b[1;33m\u001b[0m\u001b[0m\n\u001b[1;32m--> 242\u001b[1;33m         \u001b[1;32mraise\u001b[0m \u001b[0mexception_class\u001b[0m\u001b[1;33m(\u001b[0m\u001b[0mmessage\u001b[0m\u001b[1;33m,\u001b[0m \u001b[0mscreen\u001b[0m\u001b[1;33m,\u001b[0m \u001b[0mstacktrace\u001b[0m\u001b[1;33m)\u001b[0m\u001b[1;33m\u001b[0m\u001b[1;33m\u001b[0m\u001b[0m\n\u001b[0m        \u001b[0;36mexception_class\u001b[0m \u001b[1;34m= <class 'selenium.common.exceptions.WebDriverException'>\u001b[0m\u001b[1;34m\n        \u001b[0m\u001b[0;36mmessage\u001b[0m \u001b[1;34m= 'TypeError: can\\'t access property \"focus\", this.curBrowser.contentBrowser is null'\u001b[0m\u001b[1;34m\n        \u001b[0m\u001b[0;36mscreen\u001b[0m \u001b[1;34m= None\u001b[0m\u001b[1;34m\n        \u001b[0m\u001b[0;36mstacktrace\u001b[0m \u001b[1;34m= None\u001b[0m\n\u001b[0;32m    243\u001b[0m \u001b[1;33m\u001b[0m\u001b[0m\n\u001b[0;32m    244\u001b[0m     \u001b[1;32mdef\u001b[0m \u001b[0m_value_or_default\u001b[0m\u001b[1;33m(\u001b[0m\u001b[0mself\u001b[0m\u001b[1;33m,\u001b[0m \u001b[0mobj\u001b[0m\u001b[1;33m,\u001b[0m \u001b[0mkey\u001b[0m\u001b[1;33m,\u001b[0m \u001b[0mdefault\u001b[0m\u001b[1;33m)\u001b[0m\u001b[1;33m:\u001b[0m\u001b[1;33m\u001b[0m\u001b[1;33m\u001b[0m\u001b[0m\n",
      "\u001b[1;31mWebDriverException\u001b[0m: Message: TypeError: can't access property \"focus\", this.curBrowser.contentBrowser is null\n"
     ]
    }
   ],
   "source": [
    "from selenium.common.exceptions import NoSuchElementException\n",
    "browser = webdriver.Firefox()\n",
    "browser.implicitly_wait(5)\n",
    "\n",
    "browser.get('https://www.instagram.com/')\n",
    "\n",
    "# uh oh. This is raising a NoSuchElementException\n",
    "try:\n",
    "    login_link = browser.find_element_by_xpath(\"//a[text()='Log in']\")\n",
    "    login_link.click()\n",
    "except NoSuchElementException:\n",
    "    pass\n",
    "else:\n",
    "    sleep(5)\n",
    "\n",
    "browser.close()"
   ]
  },
  {
   "cell_type": "code",
   "execution_count": null,
   "metadata": {},
   "outputs": [],
   "source": [
    "# now let's add the ability to authenticate with a username and password\n",
    "browser = webdriver.Firefox()\n",
    "browser.implicitly_wait(5)\n",
    "\n",
    "browser.get('https://www.instagram.com/')\n",
    "\n",
    "def expect_to_raise():\n",
    "\n",
    "    login_link = browser.find_element_by_xpath(\"//a[text()='Log in']\")\n",
    "    login_link.click()\n",
    "\n",
    "    sleep(2)\n",
    "\n",
    "    username_input = browser.find_element_by_css_selector(\"input[name='username']\")\n",
    "\n",
    "    password_input = browser.find_element_by_css_selector(\"input[name='password']\")\n",
    "\n",
    "    # Real credentials in a private scri\n",
    "    username_input.send_keys(\"<your username>\")\n",
    "    password_input.send_keys(\"<your password>\")\n",
    "\n",
    "    login_button = browser.find_element_by_xpath(\"//button[@type='submit']\")\n",
    "    login_button.click()\n",
    "\n",
    "    sleep(5)\n",
    "    browser.close()\n",
    "\n",
    "# And then don't call it."
   ]
  },
  {
   "cell_type": "code",
   "execution_count": null,
   "metadata": {},
   "outputs": [],
   "source": []
  }
 ],
 "metadata": {
  "language_info": {
   "codemirror_mode": {
    "name": "ipython",
    "version": 3
   },
   "file_extension": ".py",
   "mimetype": "text/x-python",
   "name": "python",
   "nbconvert_exporter": "python",
   "pygments_lexer": "ipython3",
   "version": "3.8.4-final"
  },
  "orig_nbformat": 2,
  "kernelspec": {
   "name": "python38464bitinstapyconda92936c5b25a04c27bdb447bb18d6048d",
   "display_name": "Python 3.8.4 64-bit ('instapy': conda)"
  }
 },
 "nbformat": 4,
 "nbformat_minor": 2
}